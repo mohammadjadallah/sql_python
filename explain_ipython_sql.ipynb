{
 "cells": [
  {
   "cell_type": "markdown",
   "id": "ec394145-cfb8-4aa8-a4dc-bb7acecb34f2",
   "metadata": {},
   "source": [
    "#### One of the amazing things that you can use it in Jupyter notebook is Magic \"Commands\"\n",
    "  That can be used to make the use of SQL inside Jupyter notebook easier which makes you more producible.\n",
    "  \n",
    "  Magic commands divided into two types:\n",
    "  \n",
    "    1. Cell magics: start with a double %% (percent) sign and apply to the \"entire cell\".\n",
    "    2. Line magics: start with a single % (percent) sign and apply to a \"particular line\" in a cell.\n",
    "\n",
    "#### To use the magic commands with SQL in jupyter notebook you should take a look at ipython-sql which you can install it using:\n",
    "    !pip install ipython-sql\n",
    "\n",
    "#### After installing it you need first to load the SQL extension and establish a connection with the database:\n",
    "    %load_ext sql\n",
    "\n",
    "#### Let us connect to a sqlite3 database\n",
    "    import sqlite3\n",
    "    \n",
    "    # Creating and connecting to dev.db using sqlite2 module\n",
    "    con = sqlite3.connect(\"dev.db\")\n",
    "    cur = con.cursor()\n",
    "    # Here I will use the line magic to connect to the dev.db\n",
    "    # each command must start with %sql\n",
    "    %sql sqlite:///dev.db\n",
    "    \n",
    "#### You must see this output:\n",
    "    'Connected: @dev.db'\n",
    "\n",
    "#### I will read a csv file as dataframe then I will insert it as a table to the dev.db:\n",
    "\n",
    "    # read the csv data\n",
    "    import pandas as pd\n",
    "    simple_table = pd.read_csv(\"name_of_csv_file.csv\")\n",
    "    # Now we can use the PERSIST command to insert the simple_table into the dev.db\n",
    "    %sql PERSIST simple_table\n",
    "\n",
    "#### Finally, you can be querying on your DB:\n",
    "   %sql SELECT * FROM simple_table;\n",
    "\n",
    "   %sql SELECT COUNT(*) FROM simple_table;"
   ]
  },
  {
   "cell_type": "code",
   "execution_count": 1,
   "id": "0d74d021-49bb-4758-88e0-0a706455c5a2",
   "metadata": {},
   "outputs": [],
   "source": [
    "# !pip install ipython-sql\n",
    "# !pip install pandas"
   ]
  },
  {
   "cell_type": "code",
   "execution_count": 2,
   "id": "21aa4b7c-8c19-450c-8657-d16bcbbf7834",
   "metadata": {},
   "outputs": [],
   "source": [
    "%load_ext sql"
   ]
  },
  {
   "cell_type": "code",
   "execution_count": 3,
   "id": "a4169ee6-5e27-4fdf-82be-b4050cfa668f",
   "metadata": {},
   "outputs": [],
   "source": [
    "# Requierments\n",
    "import sqlite3\n",
    "import pandas as pd"
   ]
  },
  {
   "cell_type": "code",
   "execution_count": 4,
   "id": "e255cf8b-bed9-434b-a97f-6538402ea826",
   "metadata": {},
   "outputs": [],
   "source": [
    "# Creating and connecting to dev.db using sqlite2 module\n",
    "con = sqlite3.connect(\"dev.db\")\n",
    "cur = con.cursor()"
   ]
  },
  {
   "cell_type": "code",
   "execution_count": 5,
   "id": "95593bde-7b0a-4418-b5ba-b58ccbd7531e",
   "metadata": {},
   "outputs": [
    {
     "data": {
      "text/plain": [
       "'Connected: @dev.db'"
      ]
     },
     "execution_count": 5,
     "metadata": {},
     "output_type": "execute_result"
    }
   ],
   "source": [
    "# Here I will use the line magic to connect to the dev.db\n",
    "# each command must start with %sql\n",
    "%sql sqlite:///dev.db"
   ]
  },
  {
   "cell_type": "code",
   "execution_count": 6,
   "id": "810c0033-d4b1-44e0-832f-d33cdbe6336a",
   "metadata": {},
   "outputs": [],
   "source": [
    "# Read the csv file\n",
    "simple_table = pd.read_csv(\"Employees.csv\")"
   ]
  },
  {
   "cell_type": "code",
   "execution_count": 7,
   "id": "ef129c0d-8a3c-4579-9d48-1d7f541e0305",
   "metadata": {},
   "outputs": [],
   "source": [
    "simple_table.columns = ['emp_id', 'fname', 'lname', 'removed', 'birth_date', 'gender', 'address', 'salary', 'dept_id', 'removed', 'removed']"
   ]
  },
  {
   "cell_type": "code",
   "execution_count": 8,
   "id": "5b285180-50d7-4b90-b8cb-70189828b36a",
   "metadata": {},
   "outputs": [],
   "source": [
    "simple_table = simple_table.drop('removed', axis=1)"
   ]
  },
  {
   "cell_type": "code",
   "execution_count": 9,
   "id": "963d7dc0-3632-4f14-8ef7-f9727c9a8742",
   "metadata": {},
   "outputs": [
    {
     "data": {
      "text/html": [
       "<div>\n",
       "<style scoped>\n",
       "    .dataframe tbody tr th:only-of-type {\n",
       "        vertical-align: middle;\n",
       "    }\n",
       "\n",
       "    .dataframe tbody tr th {\n",
       "        vertical-align: top;\n",
       "    }\n",
       "\n",
       "    .dataframe thead th {\n",
       "        text-align: right;\n",
       "    }\n",
       "</style>\n",
       "<table border=\"1\" class=\"dataframe\">\n",
       "  <thead>\n",
       "    <tr style=\"text-align: right;\">\n",
       "      <th></th>\n",
       "      <th>emp_id</th>\n",
       "      <th>fname</th>\n",
       "      <th>lname</th>\n",
       "      <th>birth_date</th>\n",
       "      <th>gender</th>\n",
       "      <th>address</th>\n",
       "      <th>salary</th>\n",
       "      <th>dept_id</th>\n",
       "    </tr>\n",
       "  </thead>\n",
       "  <tbody>\n",
       "    <tr>\n",
       "      <th>0</th>\n",
       "      <td>E1002</td>\n",
       "      <td>Alice</td>\n",
       "      <td>James</td>\n",
       "      <td>07/31/1972</td>\n",
       "      <td>F</td>\n",
       "      <td>980 Berry ln, Elgin,IL</td>\n",
       "      <td>200</td>\n",
       "      <td>80000</td>\n",
       "    </tr>\n",
       "    <tr>\n",
       "      <th>1</th>\n",
       "      <td>E1003</td>\n",
       "      <td>Steve</td>\n",
       "      <td>Wells</td>\n",
       "      <td>08/10/1980</td>\n",
       "      <td>M</td>\n",
       "      <td>291 Springs, Gary,IL</td>\n",
       "      <td>300</td>\n",
       "      <td>50000</td>\n",
       "    </tr>\n",
       "    <tr>\n",
       "      <th>2</th>\n",
       "      <td>E1004</td>\n",
       "      <td>Santosh</td>\n",
       "      <td>Kumar</td>\n",
       "      <td>07/20/1985</td>\n",
       "      <td>M</td>\n",
       "      <td>511 Aurora Av, Aurora,IL</td>\n",
       "      <td>400</td>\n",
       "      <td>60000</td>\n",
       "    </tr>\n",
       "  </tbody>\n",
       "</table>\n",
       "</div>"
      ],
      "text/plain": [
       "  emp_id    fname  lname  birth_date gender                   address  salary  \\\n",
       "0  E1002    Alice  James  07/31/1972      F    980 Berry ln, Elgin,IL     200   \n",
       "1  E1003    Steve  Wells  08/10/1980      M      291 Springs, Gary,IL     300   \n",
       "2  E1004  Santosh  Kumar  07/20/1985      M  511 Aurora Av, Aurora,IL     400   \n",
       "\n",
       "   dept_id  \n",
       "0    80000  \n",
       "1    50000  \n",
       "2    60000  "
      ]
     },
     "execution_count": 9,
     "metadata": {},
     "output_type": "execute_result"
    }
   ],
   "source": [
    "simple_table.head(3)"
   ]
  },
  {
   "cell_type": "code",
   "execution_count": 10,
   "id": "bf31a827-81e9-4f21-a79f-fc823029ad91",
   "metadata": {},
   "outputs": [],
   "source": [
    "simple_table.birth_date = pd.to_datetime(simple_table.birth_date)"
   ]
  },
  {
   "cell_type": "code",
   "execution_count": 11,
   "id": "0152d65e-f301-48fd-8d0b-295eee112d79",
   "metadata": {},
   "outputs": [
    {
     "name": "stdout",
     "output_type": "stream",
     "text": [
      " * sqlite:///dev.db\n"
     ]
    },
    {
     "data": {
      "text/plain": [
       "'Persisted simple_table'"
      ]
     },
     "execution_count": 11,
     "metadata": {},
     "output_type": "execute_result"
    }
   ],
   "source": [
    "# Insert the above table to the dev.db database using PERSIST command\n",
    "%sql PERSIST simple_table"
   ]
  },
  {
   "cell_type": "markdown",
   "id": "c1bf2d6f-3d85-4bff-9d1f-18c958c6e709",
   "metadata": {},
   "source": [
    "#### Show all the rows and columns:"
   ]
  },
  {
   "cell_type": "code",
   "execution_count": 12,
   "id": "a4263b50-5535-4772-809e-aad0b9bfd657",
   "metadata": {},
   "outputs": [
    {
     "name": "stdout",
     "output_type": "stream",
     "text": [
      " * sqlite:///dev.db\n",
      "Done.\n"
     ]
    },
    {
     "data": {
      "text/html": [
       "<table>\n",
       "    <thead>\n",
       "        <tr>\n",
       "            <th>index</th>\n",
       "            <th>emp_id</th>\n",
       "            <th>fname</th>\n",
       "            <th>lname</th>\n",
       "            <th>birth_date</th>\n",
       "            <th>gender</th>\n",
       "            <th>address</th>\n",
       "            <th>salary</th>\n",
       "            <th>dept_id</th>\n",
       "        </tr>\n",
       "    </thead>\n",
       "    <tbody>\n",
       "        <tr>\n",
       "            <td>0</td>\n",
       "            <td>E1002</td>\n",
       "            <td>Alice</td>\n",
       "            <td>James</td>\n",
       "            <td>1972-07-31 00:00:00.000000</td>\n",
       "            <td>F</td>\n",
       "            <td>980 Berry ln, Elgin,IL</td>\n",
       "            <td>200</td>\n",
       "            <td>80000</td>\n",
       "        </tr>\n",
       "        <tr>\n",
       "            <td>1</td>\n",
       "            <td>E1003</td>\n",
       "            <td>Steve</td>\n",
       "            <td>Wells</td>\n",
       "            <td>1980-08-10 00:00:00.000000</td>\n",
       "            <td>M</td>\n",
       "            <td>291 Springs, Gary,IL</td>\n",
       "            <td>300</td>\n",
       "            <td>50000</td>\n",
       "        </tr>\n",
       "        <tr>\n",
       "            <td>2</td>\n",
       "            <td>E1004</td>\n",
       "            <td>Santosh</td>\n",
       "            <td>Kumar</td>\n",
       "            <td>1985-07-20 00:00:00.000000</td>\n",
       "            <td>M</td>\n",
       "            <td>511 Aurora Av, Aurora,IL</td>\n",
       "            <td>400</td>\n",
       "            <td>60000</td>\n",
       "        </tr>\n",
       "        <tr>\n",
       "            <td>3</td>\n",
       "            <td>E1005</td>\n",
       "            <td>Ahmed</td>\n",
       "            <td>Hussain</td>\n",
       "            <td>1981-01-04 00:00:00.000000</td>\n",
       "            <td>M</td>\n",
       "            <td>216 Oak Tree, Geneva,IL</td>\n",
       "            <td>500</td>\n",
       "            <td>70000</td>\n",
       "        </tr>\n",
       "        <tr>\n",
       "            <td>4</td>\n",
       "            <td>E1006</td>\n",
       "            <td>Nancy</td>\n",
       "            <td>Allen</td>\n",
       "            <td>1978-02-06 00:00:00.000000</td>\n",
       "            <td>F</td>\n",
       "            <td>111 Green Pl, Elgin,IL</td>\n",
       "            <td>600</td>\n",
       "            <td>90000</td>\n",
       "        </tr>\n",
       "        <tr>\n",
       "            <td>5</td>\n",
       "            <td>E1007</td>\n",
       "            <td>Mary</td>\n",
       "            <td>Thomas</td>\n",
       "            <td>1975-05-05 00:00:00.000000</td>\n",
       "            <td>F</td>\n",
       "            <td>100 Rose Pl, Gary,IL</td>\n",
       "            <td>650</td>\n",
       "            <td>65000</td>\n",
       "        </tr>\n",
       "        <tr>\n",
       "            <td>6</td>\n",
       "            <td>E1008</td>\n",
       "            <td>Bharath</td>\n",
       "            <td>Gupta</td>\n",
       "            <td>1985-05-06 00:00:00.000000</td>\n",
       "            <td>M</td>\n",
       "            <td>145 Berry Ln, Naperville,IL</td>\n",
       "            <td>660</td>\n",
       "            <td>65000</td>\n",
       "        </tr>\n",
       "        <tr>\n",
       "            <td>7</td>\n",
       "            <td>E1009</td>\n",
       "            <td>Andrea</td>\n",
       "            <td>Jones</td>\n",
       "            <td>1990-07-09 00:00:00.000000</td>\n",
       "            <td>F</td>\n",
       "            <td>120 Fall Creek, Gary,IL</td>\n",
       "            <td>234</td>\n",
       "            <td>70000</td>\n",
       "        </tr>\n",
       "        <tr>\n",
       "            <td>8</td>\n",
       "            <td>E1010</td>\n",
       "            <td>Ann</td>\n",
       "            <td>Jacob</td>\n",
       "            <td>1982-03-30 00:00:00.000000</td>\n",
       "            <td>F</td>\n",
       "            <td>111 Britany Springs,Elgin,IL</td>\n",
       "            <td>220</td>\n",
       "            <td>70000</td>\n",
       "        </tr>\n",
       "    </tbody>\n",
       "</table>"
      ],
      "text/plain": [
       "[(0, 'E1002', 'Alice', 'James', '1972-07-31 00:00:00.000000', 'F', '980 Berry ln, Elgin,IL', 200, 80000),\n",
       " (1, 'E1003', 'Steve', 'Wells', '1980-08-10 00:00:00.000000', 'M', '291 Springs, Gary,IL', 300, 50000),\n",
       " (2, 'E1004', 'Santosh', 'Kumar', '1985-07-20 00:00:00.000000', 'M', '511 Aurora Av, Aurora,IL', 400, 60000),\n",
       " (3, 'E1005', 'Ahmed', 'Hussain', '1981-01-04 00:00:00.000000', 'M', '216 Oak Tree, Geneva,IL', 500, 70000),\n",
       " (4, 'E1006', 'Nancy', 'Allen', '1978-02-06 00:00:00.000000', 'F', '111 Green Pl, Elgin,IL', 600, 90000),\n",
       " (5, 'E1007', 'Mary', 'Thomas', '1975-05-05 00:00:00.000000', 'F', '100 Rose Pl, Gary,IL', 650, 65000),\n",
       " (6, 'E1008', 'Bharath', 'Gupta', '1985-05-06 00:00:00.000000', 'M', '145 Berry Ln, Naperville,IL', 660, 65000),\n",
       " (7, 'E1009', 'Andrea', 'Jones', '1990-07-09 00:00:00.000000', 'F', '120 Fall Creek, Gary,IL', 234, 70000),\n",
       " (8, 'E1010', 'Ann', 'Jacob', '1982-03-30 00:00:00.000000', 'F', '111 Britany Springs,Elgin,IL', 220, 70000)]"
      ]
     },
     "execution_count": 12,
     "metadata": {},
     "output_type": "execute_result"
    }
   ],
   "source": [
    "%sql SELECT * FROM simple_table;"
   ]
  },
  {
   "cell_type": "markdown",
   "id": "6c2e5285-9580-4e54-a3b7-487fa3433fa2",
   "metadata": {},
   "source": [
    "####  What is the number of rows in simple_table?"
   ]
  },
  {
   "cell_type": "code",
   "execution_count": 13,
   "id": "46b1f1bd-d5d3-4b3d-b40b-cc06fda17df8",
   "metadata": {},
   "outputs": [
    {
     "name": "stdout",
     "output_type": "stream",
     "text": [
      " * sqlite:///dev.db\n",
      "Done.\n"
     ]
    },
    {
     "data": {
      "text/html": [
       "<table>\n",
       "    <thead>\n",
       "        <tr>\n",
       "            <th>num_rows</th>\n",
       "        </tr>\n",
       "    </thead>\n",
       "    <tbody>\n",
       "        <tr>\n",
       "            <td>9</td>\n",
       "        </tr>\n",
       "    </tbody>\n",
       "</table>"
      ],
      "text/plain": [
       "[(9,)]"
      ]
     },
     "execution_count": 13,
     "metadata": {},
     "output_type": "execute_result"
    }
   ],
   "source": [
    "%sql SELECT COUNT(*) AS num_rows FROM simple_table;"
   ]
  },
  {
   "cell_type": "markdown",
   "id": "cab7395c-5776-4fe3-94f4-2a74f869dc67",
   "metadata": {},
   "source": [
    "####  What is the average of rows in simple_table?"
   ]
  },
  {
   "cell_type": "code",
   "execution_count": 14,
   "id": "632ddf00-54ef-4b99-a269-dc5d671a7289",
   "metadata": {},
   "outputs": [
    {
     "name": "stdout",
     "output_type": "stream",
     "text": [
      " * sqlite:///dev.db\n",
      "Done.\n"
     ]
    },
    {
     "data": {
      "text/html": [
       "<table>\n",
       "    <thead>\n",
       "        <tr>\n",
       "            <th>AVG(salary)</th>\n",
       "        </tr>\n",
       "    </thead>\n",
       "    <tbody>\n",
       "        <tr>\n",
       "            <td>418.22222222222223</td>\n",
       "        </tr>\n",
       "    </tbody>\n",
       "</table>"
      ],
      "text/plain": [
       "[(418.22222222222223,)]"
      ]
     },
     "execution_count": 14,
     "metadata": {},
     "output_type": "execute_result"
    }
   ],
   "source": [
    "%sql SELECT AVG(salary) FROM simple_table;"
   ]
  },
  {
   "cell_type": "markdown",
   "id": "7896c8a3-6b35-4f8d-8b0e-b243b6123fde",
   "metadata": {},
   "source": [
    "#### What is/are the names of the employees who get the highest salary?"
   ]
  },
  {
   "cell_type": "code",
   "execution_count": 15,
   "id": "be3fc811-ada3-47cc-835f-c49e034ef0ab",
   "metadata": {},
   "outputs": [
    {
     "name": "stdout",
     "output_type": "stream",
     "text": [
      " * sqlite:///dev.db\n",
      "Done.\n"
     ]
    },
    {
     "data": {
      "text/html": [
       "<table>\n",
       "    <thead>\n",
       "        <tr>\n",
       "            <th>Name</th>\n",
       "            <th>salary</th>\n",
       "        </tr>\n",
       "    </thead>\n",
       "    <tbody>\n",
       "        <tr>\n",
       "            <td>BharathGupta</td>\n",
       "            <td>660</td>\n",
       "        </tr>\n",
       "    </tbody>\n",
       "</table>"
      ],
      "text/plain": [
       "[('BharathGupta', 660)]"
      ]
     },
     "execution_count": 15,
     "metadata": {},
     "output_type": "execute_result"
    }
   ],
   "source": [
    "%sql SELECT (fname || lname) AS Name, salary FROM simple_table WHERE salary = (SELECT MAX(salary) FROM simple_table);"
   ]
  },
  {
   "cell_type": "markdown",
   "id": "6269c5d0-a4fd-44ae-b21d-188068c98abb",
   "metadata": {},
   "source": [
    "#### What is the year of birth of employees?"
   ]
  },
  {
   "cell_type": "code",
   "execution_count": 16,
   "id": "2577dfb2-8457-4fc9-873f-4bef2aebbd4f",
   "metadata": {},
   "outputs": [
    {
     "name": "stdout",
     "output_type": "stream",
     "text": [
      " * sqlite:///dev.db\n",
      "Done.\n"
     ]
    },
    {
     "data": {
      "text/html": [
       "<table>\n",
       "    <thead>\n",
       "        <tr>\n",
       "            <th>strftime(&#x27;%Y&#x27;, birth_date)</th>\n",
       "        </tr>\n",
       "    </thead>\n",
       "    <tbody>\n",
       "        <tr>\n",
       "            <td>1972</td>\n",
       "        </tr>\n",
       "        <tr>\n",
       "            <td>1980</td>\n",
       "        </tr>\n",
       "        <tr>\n",
       "            <td>1985</td>\n",
       "        </tr>\n",
       "        <tr>\n",
       "            <td>1981</td>\n",
       "        </tr>\n",
       "        <tr>\n",
       "            <td>1978</td>\n",
       "        </tr>\n",
       "        <tr>\n",
       "            <td>1975</td>\n",
       "        </tr>\n",
       "        <tr>\n",
       "            <td>1985</td>\n",
       "        </tr>\n",
       "        <tr>\n",
       "            <td>1990</td>\n",
       "        </tr>\n",
       "        <tr>\n",
       "            <td>1982</td>\n",
       "        </tr>\n",
       "    </tbody>\n",
       "</table>"
      ],
      "text/plain": [
       "[('1972',),\n",
       " ('1980',),\n",
       " ('1985',),\n",
       " ('1981',),\n",
       " ('1978',),\n",
       " ('1975',),\n",
       " ('1985',),\n",
       " ('1990',),\n",
       " ('1982',)]"
      ]
     },
     "execution_count": 16,
     "metadata": {},
     "output_type": "execute_result"
    }
   ],
   "source": [
    "%sql SELECT strftime('%Y', birth_date) FROM simple_table;"
   ]
  },
  {
   "cell_type": "markdown",
   "id": "20ca472d-51ff-46d3-af93-34605b50afcc",
   "metadata": {},
   "source": [
    "# Hope you learned somthing,"
   ]
  }
 ],
 "metadata": {
  "kernelspec": {
   "display_name": "Python",
   "language": "python",
   "name": "conda-env-python-py"
  },
  "language_info": {
   "codemirror_mode": {
    "name": "ipython",
    "version": 3
   },
   "file_extension": ".py",
   "mimetype": "text/x-python",
   "name": "python",
   "nbconvert_exporter": "python",
   "pygments_lexer": "ipython3",
   "version": "3.7.12"
  }
 },
 "nbformat": 4,
 "nbformat_minor": 5
}
